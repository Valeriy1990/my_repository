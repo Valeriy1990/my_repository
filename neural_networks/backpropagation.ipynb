{
 "cells": [
  {
   "cell_type": "code",
   "execution_count": 8,
   "metadata": {},
   "outputs": [],
   "source": [
    "import numpy as np\n",
    "import sys\n",
    "\n",
    "class NeuralNetworks(object):\n",
    "    '''Первый слой 3 входа, второй слой 2 скрытых нейрона, на выходе 1'''\n",
    "    \n",
    "    def __init__(self, learning_rate=0.1):\n",
    "        self.weight_0_1 = np.random.normal(0.0, 0.1, (2, 3))  # Cлучайные веса от нулевого слоя к первому (выборки из нормального (гауссовского) распределения) в виде матрицы 2 х 3.\n",
    "        self.weight_1_2 = np.random.normal(0.0, 0.1, (1, 2)) # Cлучайные веса от нулевого слоя к первому (выборки из нормального (гауссовского) распределения) в виде матрицы 1 х 2.\n",
    "        self.sigmoid_mapper = np.vectorize(self.sigmoid)   # Возвращает результат функции sigmoid в виде вектора\n",
    "        self.learning_rate = np.array([learning_rate])\n",
    "        \n",
    "    def sigmoid(self, x):\n",
    "        return 1/(1 + np.exp(-x))\n",
    "    \n",
    "    def predict(self, inputs):\n",
    "        inputs_1 = np.dot(self.weight_0_1, inputs)\n",
    "        outputs_1 = self.sigmoid_mapper(inputs_1)\n",
    "        \n",
    "        inputs_2 = np.dot(self.weight_1_2, outputs_1)\n",
    "        outputs_2 = self.sigmoid_mapper(inputs_2)    \n",
    "        return outputs_2\n",
    "    \n",
    "    def train(self, inputs, expected_predict):\n",
    "        inputs_1 = np.dot(self.weight_0_1, inputs)\n",
    "        outputs_1 = self.sigmoid_mapper(inputs_1)\n",
    "                \n",
    "        inputs_2 = np.dot(self.weight_1_2, outputs_1)\n",
    "        outputs_2 = self.sigmoid_mapper(inputs_2)   \n",
    "        actual_predict = outputs_2[0]\n",
    "        \n",
    "        error_layer_2 = np.array([actual_predict - expected_predict])  # sigmoid(z_j) - Y_j\n",
    "        gradient_layer_2 = actual_predict * (1 - actual_predict )  \n",
    "        # Градиен (вектор) характеризует направление возрастаниея функции для каждого a_j и равен sigmoid(z_j) * (1 - sigmoid(z_j)) или  sigmoid'(z_j)\n",
    "        weights_delta_layer_2 = error_layer_2 * gradient_layer_2  #  Вектор ошибок нейронов выходного слоя (sigmoid(z_j) - Y_j) * sigmoid'(z_j)\n",
    "        self.weight_1_2 = self.weight_1_2 - (np.dot(weights_delta_layer_2, outputs_1.reshape(1, (len(outputs_1))))) * self.learning_rate\n",
    "        \n",
    "        error_layer_1 = weights_delta_layer_2 * self.weight_1_2\n",
    "        gradient_layer_1 = outputs_1 * (1 - outputs_1 )  \n",
    "        weights_delta_layer_1 = error_layer_1 * gradient_layer_1\n",
    "        self.weight_0_1 = self.weight_0_1 - np.dot(inputs.reshape(len(inputs), 1), weights_delta_layer_1).T * self.learning_rate"
   ]
  },
  {
   "cell_type": "code",
   "execution_count": 9,
   "metadata": {},
   "outputs": [
    {
     "name": "stdout",
     "output_type": "stream",
     "text": [
      "[[ 0.1156405  -0.02288622  0.10349543]\n",
      " [ 0.08822605  0.0204991  -0.05816533]]\n",
      "\n",
      "[[0.21710029 0.02863896]]\n"
     ]
    }
   ],
   "source": [
    "epochs = 5000\n",
    "learning_rate = 0.05\n",
    "\n",
    "my_nn = NeuralNetworks(learning_rate=learning_rate)\n",
    "\n",
    "print(my_nn.weight_0_1)\n",
    "print()\n",
    "print(my_nn.weight_1_2)\n"
   ]
  },
  {
   "cell_type": "code",
   "execution_count": 10,
   "metadata": {},
   "outputs": [
    {
     "name": "stdout",
     "output_type": "stream",
     "text": [
      "Progress: 99.9, Trainimg loss: 0.003"
     ]
    }
   ],
   "source": [
    "def MSE(y, Y):\n",
    "    return np.mean((y - Y) ** 2)\n",
    "\n",
    "train = [\n",
    "    ([0, 0, 0], 0),\n",
    "    ([0, 0, 1], 1),    \n",
    "    ([0, 1, 0], 0),    \n",
    "    ([0, 1, 1], 0),    \n",
    "    ([1, 0, 0], 1),    \n",
    "    ([1, 0, 1], 1),    \n",
    "    ([1, 1, 0], 0),    \n",
    "    ([1, 1, 1], 1)]\n",
    "\n",
    "losses = {\"train\": [], 'validation': []}\n",
    "for e in range(epochs):\n",
    "    inputs_ = []\n",
    "    correct_predictions = []\n",
    "    for inputs_stat, correct_predict in train:\n",
    "        my_nn.train(np.array(inputs_stat), correct_predict)\n",
    "        inputs_.append(np.array(inputs_stat))\n",
    "        correct_predictions.append(np.array(correct_predict))\n",
    "        \n",
    "    train_loss = MSE(my_nn.predict(np.array(inputs_).T), np.array(correct_predictions))\n",
    "    sys.stdout.write('\\rProgress: {}, Trainimg loss: {}'.format(str(100 * e/float(epochs))[:4], str(train_loss)[:5]))\n"
   ]
  },
  {
   "cell_type": "code",
   "execution_count": 11,
   "metadata": {},
   "outputs": [
    {
     "name": "stdout",
     "output_type": "stream",
     "text": [
      "For input: [0, 0, 0] the predictions is: [False], excpected: False\n",
      "For input: [0, 0, 1] the predictions is: [ True], excpected: True\n",
      "For input: [0, 1, 0] the predictions is: [False], excpected: False\n",
      "For input: [0, 1, 1] the predictions is: [False], excpected: False\n",
      "For input: [1, 0, 0] the predictions is: [ True], excpected: True\n",
      "For input: [1, 0, 1] the predictions is: [ True], excpected: True\n",
      "For input: [1, 1, 0] the predictions is: [False], excpected: False\n",
      "For input: [1, 1, 1] the predictions is: [ True], excpected: True\n"
     ]
    }
   ],
   "source": [
    "for input_stat, correct_predict in train:\n",
    "    print(\"For input: {} the predictions is: {}, excpected: {}\".format(\n",
    "        str(input_stat),\n",
    "        str(my_nn.predict(np.array(input_stat)) > .5),\n",
    "        str(correct_predict == 1)))"
   ]
  },
  {
   "cell_type": "code",
   "execution_count": 12,
   "metadata": {},
   "outputs": [
    {
     "name": "stdout",
     "output_type": "stream",
     "text": [
      "For input: [0, 0, 0] the predictions is: [0.12293133], excpected: False\n",
      "For input: [0, 0, 1] the predictions is: [0.94743299], excpected: True\n",
      "For input: [0, 1, 0] the predictions is: [0.00084417], excpected: False\n",
      "For input: [0, 1, 1] the predictions is: [0.03997568], excpected: False\n",
      "For input: [1, 0, 0] the predictions is: [0.94753088], excpected: True\n",
      "For input: [1, 0, 1] the predictions is: [0.97390378], excpected: True\n",
      "For input: [1, 1, 0] the predictions is: [0.03998976], excpected: False\n",
      "For input: [1, 1, 1] the predictions is: [0.92533532], excpected: True\n"
     ]
    }
   ],
   "source": [
    "for input_stat, correct_predict in train:\n",
    "    print(\"For input: {} the predictions is: {}, excpected: {}\".format(\n",
    "        str(input_stat),\n",
    "        str(my_nn.predict(np.array(input_stat))),\n",
    "        str(correct_predict == 1)))"
   ]
  },
  {
   "cell_type": "code",
   "execution_count": 13,
   "metadata": {},
   "outputs": [
    {
     "data": {
      "text/plain": [
       "array([[ 2.33658406, -2.59492596,  2.31230769],\n",
       "       [-2.7261177 ,  3.25069822, -2.73824291]])"
      ]
     },
     "execution_count": 13,
     "metadata": {},
     "output_type": "execute_result"
    }
   ],
   "source": [
    "my_nn.weight_0_1"
   ]
  },
  {
   "cell_type": "code",
   "execution_count": 14,
   "metadata": {},
   "outputs": [
    {
     "data": {
      "text/plain": [
       "array([[ 3.68659663, -7.6165153 ]])"
      ]
     },
     "execution_count": 14,
     "metadata": {},
     "output_type": "execute_result"
    }
   ],
   "source": [
    "my_nn.weight_1_2"
   ]
  }
 ],
 "metadata": {
  "kernelspec": {
   "display_name": "base",
   "language": "python",
   "name": "python3"
  },
  "language_info": {
   "codemirror_mode": {
    "name": "ipython",
    "version": 3
   },
   "file_extension": ".py",
   "mimetype": "text/x-python",
   "name": "python",
   "nbconvert_exporter": "python",
   "pygments_lexer": "ipython3",
   "version": "3.12.4"
  }
 },
 "nbformat": 4,
 "nbformat_minor": 2
}
