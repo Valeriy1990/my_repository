{
 "cells": [
  {
   "cell_type": "code",
   "execution_count": 4,
   "metadata": {},
   "outputs": [
    {
     "name": "stdout",
     "output_type": "stream",
     "text": [
      "среднее по 1 массиву = 50.30291426037849, стандартное отклонение = 4.4257810691579245\n",
      "среднее по 2 массиву = 51.763973888101, стандартное отклонение = 4.6599740872749775\n",
      "statistics = 4025.0, p-value = 0.017261846917598123\n",
      "Выборки отличаются\n"
     ]
    }
   ],
   "source": [
    "import numpy as np\n",
    "\n",
    "import scipy.stats as stats\n",
    "\n",
    "np.random.seed(1) # создает генератор случайных чисел\n",
    "\n",
    "# далее создаем два случайных списка из 100 чисел согласно нормальному распределению (среднее равно 0 и дисперсия равна 1). Далее ранжируем каждый элемент каждого массива \n",
    "# (умножаем на 5 и прибавляем 50 и 51). В результате возымеем два списка со средними 50 и 51 соответственно и стандартным\n",
    "# отклонением равным 5\n",
    "\n",
    "data1 = 5 * np.random.randn(100) + 50 \n",
    "data2 = 5 * np.random.randn(100) + 51\n",
    "print(f\"среднее по 1 массиву = {np.mean(data1)}, стандартное отклонение = {np.std(data1)}\")\n",
    "print(f\"среднее по 2 массиву = {np.mean(data2)}, стандартное отклонение = {np.std(data2)}\")\n",
    "\n",
    "# применяем тест и выводим результаты на экран\n",
    "\n",
    "st, p = stats.mannwhitneyu(data1, data2)\n",
    "\n",
    "print(f\"statistics = {st}, p-value = {p}\" + \"\\n\" + (\"Выборки не отличаются\" if p > 0.05 else \"Выборки отличаются\"))"
   ]
  }
 ],
 "metadata": {
  "kernelspec": {
   "display_name": "base",
   "language": "python",
   "name": "python3"
  },
  "language_info": {
   "codemirror_mode": {
    "name": "ipython",
    "version": 3
   },
   "file_extension": ".py",
   "mimetype": "text/x-python",
   "name": "python",
   "nbconvert_exporter": "python",
   "pygments_lexer": "ipython3",
   "version": "3.12.4"
  }
 },
 "nbformat": 4,
 "nbformat_minor": 2
}
