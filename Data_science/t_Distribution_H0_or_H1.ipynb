{
 "cells": [
  {
   "cell_type": "code",
   "execution_count": 27,
   "id": "c05d145d-58fa-41cc-b354-35f3a6dc5950",
   "metadata": {},
   "outputs": [],
   "source": [
    "import scipy.stats as st\n",
    "import numpy as np\n",
    "from math import sqrt\n",
    "\n",
    "sample_1 = [84.7, 105, 98.9, 97.9, 108.7, 81.3, 99.4, 89.4 , 93, 119.3, 99.2, 99.4, 97.1, 112.4, 99.8, 94.7, 114, 95.1, 115.5, 111.5]\n",
    "sample_2 = [57.2, 68.6, 104.4, 95.1, 89.9, 70.8, 83.5, 60.1, 75.7, 102, 69, 79.6, 68.9, 98.6, 76, 74.8, 56, 55.6, 69.4, 59.5]"
   ]
  },
  {
   "cell_type": "code",
   "execution_count": 28,
   "id": "5b87939e",
   "metadata": {},
   "outputs": [
    {
     "name": "stdout",
     "output_type": "stream",
     "text": [
      "Mean_1 = 100.815\n",
      "Mean_2 = 75.735\n",
      "sd_1 = 10.246502612573408\n",
      "sd_2 = 15.458102116774606\n",
      "n_1 = 20\n",
      "n_2 = 20\n"
     ]
    }
   ],
   "source": [
    "n_1 = len(sample_1)\n",
    "n_2 = len(sample_2)\n",
    "\n",
    "mean_1 = sum(sample_1) / n_1\n",
    "mean_2 = sum(sample_2) / n_2\n",
    "\n",
    "dispersion_1_part1 = 0\n",
    "dispersion_2_part1 = 0\n",
    "\n",
    "for i in sample_1:\n",
    "    dispersion_1_part1 += (i - mean_1) ** 2\n",
    "\n",
    "for j in sample_2:\n",
    "    dispersion_2_part1 += (j - mean_2) ** 2\n",
    "\n",
    "dispersion_1 = dispersion_1_part1 / (n_1 - 1)\n",
    "dispersion_2 = dispersion_2_part1 / (n_2 - 1)\n",
    "\n",
    "sd_1 = sqrt(dispersion_1)\n",
    "sd_2 = sqrt(dispersion_2)\n",
    "\n",
    "print('Mean_1 = ', mean_1, '\\n','Mean_2 = ', mean_2, '\\n','sd_1 = ', sd_1, '\\n','sd_2 = ', sd_2, '\\n','n_1 = ', n_1, '\\n','n_2 = ', n_2, sep='')"
   ]
  },
  {
   "cell_type": "code",
   "execution_count": 29,
   "id": "eea0ab92",
   "metadata": {},
   "outputs": [
    {
     "name": "stdout",
     "output_type": "stream",
     "text": [
      "T_criteria = 6.047819587898917\n",
      "se = 4.146949100496082\n"
     ]
    }
   ],
   "source": [
    "se = sqrt(sd_1 ** 2 / n_1 + sd_2 ** 2 / n_2)\n",
    "t_criteria = (mean_1 - mean_2) / se\n",
    "print(\"T_criteria = \", t_criteria, '\\n',\"se = \", se, sep='')"
   ]
  },
  {
   "cell_type": "code",
   "execution_count": 30,
   "id": "de5fd9c0",
   "metadata": {},
   "outputs": [
    {
     "name": "stdout",
     "output_type": "stream",
     "text": [
      "p_value =  5e-07\n",
      "H0 can be rejected, means aren't statistically equal, factor impacts\n"
     ]
    }
   ],
   "source": [
    "def p_value(t, n, area='bt'):\n",
    "   df = n - 2\n",
    "\n",
    "   if area == 'bt': # both tales\n",
    "      p = 2 * (1 - st.t.cdf(abs(t), df))\n",
    "\n",
    "   if area == 'lt': # lower tail\n",
    "      p = st.t.cdf(t, df)\n",
    "\n",
    "   if area == 'ut': #upper tail\n",
    "      p = 1 - st.t.cdf(t, df)\n",
    "\n",
    "   return round(p, 7)  # acuracy\n",
    "\n",
    "t = t_criteria\n",
    "n = n_1 + n_2\n",
    "print('p_value = ', p_value(t, n))\n",
    "\n",
    "if p_value(t, n) >= 0.05:\n",
    "    print(\"H0 can't be rejected, means are statistically equal, no factor impact\")\n",
    "else:\n",
    "    print(\"H0 can be rejected, means aren't statistically equal, factor impacts\")\n"
   ]
  }
 ],
 "metadata": {
  "kernelspec": {
   "display_name": "Python 3 (ipykernel)",
   "language": "python",
   "name": "python3"
  },
  "language_info": {
   "codemirror_mode": {
    "name": "ipython",
    "version": 3
   },
   "file_extension": ".py",
   "mimetype": "text/x-python",
   "name": "python",
   "nbconvert_exporter": "python",
   "pygments_lexer": "ipython3",
   "version": "3.12.4"
  }
 },
 "nbformat": 4,
 "nbformat_minor": 5
}
