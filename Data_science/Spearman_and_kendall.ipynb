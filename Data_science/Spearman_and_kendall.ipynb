{
 "cells": [
  {
   "cell_type": "code",
   "execution_count": 1,
   "id": "c05d145d-58fa-41cc-b354-35f3a6dc5950",
   "metadata": {},
   "outputs": [
    {
     "data": {
      "image/png": "[encoded data removed]",
      "text/plain": [
       "<Figure size 640x480 with 1 Axes>"
      ]
     },
     "metadata": {},
     "output_type": "display_data"
    }
   ],
   "source": [
    "import numpy as np\n",
    "from matplotlib import pyplot\n",
    "from scipy.stats import spearmanr,kendalltau\n",
    "import pandas as pd\n",
    "\n",
    "# Если взаимосвяз переменных не линейна\n",
    "\n",
    "# подготовим данные\n",
    "data1 = [3.7, 5.8, 7.1, 9.1, 10.5, 11.4, 11.6, 12.5, 14.3, 17.5, 30.0, 32.0]\n",
    "data2 = [-0.3, 4.1, 4.3, 8.3, 12.9, 8.1, 9.5, 9.5, 18.2, 17.5, 1.0, 2.0]\n",
    "\n",
    "# график\n",
    "pyplot.scatter(data1, data2)\n",
    "pyplot.show()"
   ]
  },
  {
   "cell_type": "code",
   "execution_count": 2,
   "id": "5b87939e",
   "metadata": {},
   "outputs": [
    {
     "name": "stdout",
     "output_type": "stream",
     "text": [
      "Коэффициент корреляции Спирмана: 0.242\n"
     ]
    }
   ],
   "source": [
    "# вычислим корреляцию Спирмена\n",
    "coef, p = spearmanr(data1, data2)\n",
    "print('Коэффициент корреляции Спирмана: %.3f' % coef)"
   ]
  },
  {
   "cell_type": "code",
   "execution_count": 3,
   "id": "eea0ab92",
   "metadata": {},
   "outputs": [
    {
     "name": "stdout",
     "output_type": "stream",
     "text": [
      "Переменные не коррелируют (принимаем нулевую гипотезу) p=0.449\n"
     ]
    }
   ],
   "source": [
    "# интерпретируем значение\n",
    "alpha = 0.05\n",
    "if p > alpha:\n",
    "    print('Переменные не коррелируют (принимаем нулевую гипотезу) p=%.3f' % p)\n",
    "else:\n",
    "    print('Переменные коррелируют (отвергаем нулевую гипотезу) p=%.3f' % p)"
   ]
  },
  {
   "cell_type": "code",
   "execution_count": 4,
   "id": "27f4278a",
   "metadata": {},
   "outputs": [
    {
     "name": "stdout",
     "output_type": "stream",
     "text": [
      "Коэффициент корреляции Кендалла: 0.290\n",
      "Переменные не коррелируют (принимаем нулевую гипотезу) p=0.192\n"
     ]
    }
   ],
   "source": [
    "# вычислим корреляцию Кендалла    \n",
    "coef, p = kendalltau(data1, data2)\n",
    "print('Коэффициент корреляции Кендалла: %.3f' % coef)\n",
    "\n",
    "if p > alpha:\n",
    "    print('Переменные не коррелируют (принимаем нулевую гипотезу) p=%.3f' % p)\n",
    "else:\n",
    "    print('Переменные коррелируют (отвергаем нулевую гипотезу) p=%.3f' % p)"
   ]
  },
  {
   "cell_type": "code",
   "execution_count": 5,
   "id": "7193a9bf",
   "metadata": {},
   "outputs": [
    {
     "name": "stdout",
     "output_type": "stream",
     "text": [
      "          X         Y\n",
      "X  1.000000 -0.110838\n",
      "Y -0.110838  1.000000\n",
      "          X         Y\n",
      "X  1.000000  0.241682\n",
      "Y  0.241682  1.000000\n",
      "          X         Y\n",
      "X  1.000000  0.290085\n",
      "Y  0.290085  1.000000\n"
     ]
    }
   ],
   "source": [
    "df = pd.DataFrame({'X':[3.7, 5.8, 7.1, 9.1, 10.5, 11.4, 11.6, 12.5, 14.3, 17.5, 30.0, 32.0],'Y':[-0.3, 4.1, 4.3, 8.3, 12.9, 8.1, 9.5, 9.5, 18.2, 17.5, 1.0, 2.0]})\n",
    "# Пирсон \n",
    "print(df.corr(\"\"))\n",
    "# Спирман \n",
    "print(df.corr('spearman'))\n",
    "# Кендалл \n",
    "print(df.corr('kendall'))"
   ]
  }
 ],
 "metadata": {
  "kernelspec": {
   "display_name": "Python 3 (ipykernel)",
   "language": "python",
   "name": "python3"
  },
  "language_info": {
   "codemirror_mode": {
    "name": "ipython",
    "version": 3
   },
   "file_extension": ".py",
   "mimetype": "text/x-python",
   "name": "python",
   "nbconvert_exporter": "python",
   "pygments_lexer": "ipython3",
   "version": "3.12.4"
  }
 },
 "nbformat": 4,
 "nbformat_minor": 5
}
