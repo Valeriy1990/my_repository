{
 "cells": [
  {
   "cell_type": "code",
   "execution_count": 1,
   "id": "c05d145d-58fa-41cc-b354-35f3a6dc5950",
   "metadata": {},
   "outputs": [
    {
     "data": {
      "text/plain": [
       "4.0"
      ]
     },
     "execution_count": 1,
     "metadata": {},
     "output_type": "execute_result"
    }
   ],
   "source": [
    "import pandas as pd\n",
    "from scipy.stats import f\n",
    "import numpy as np\n",
    "\n",
    "data = pd.DataFrame({1:[3,1,2],2:[5,3,4],3:[7,6,5]}) # Here 3 groups and we are going to compare them\n",
    "\n",
    "first_group = [i for i in data[1]] # Выделяем группы для операции над данными\n",
    "second_group = [i for i in data[2]]\n",
    "third_group = [i for i in data[3]]\n",
    "number_of_groups = len([first_group,second_group,third_group])\n",
    "    \n",
    "all_groups = first_group+second_group+third_group # Все группы тут\n",
    "\n",
    "mean_of_all_groups = np.mean(all_groups) # среднее значение всей группы\n",
    "\n",
    "mean_of_all_groups"
   ]
  },
  {
   "cell_type": "code",
   "execution_count": 2,
   "id": "dcb0f751",
   "metadata": {},
   "outputs": [
    {
     "data": {
      "text/plain": [
       "30.0"
      ]
     },
     "execution_count": 2,
     "metadata": {},
     "output_type": "execute_result"
    }
   ],
   "source": [
    "sum_of_squared_total = sum([(i-mean_of_all_groups)**2 for i in all_groups]) # Общая изменчивость наших данных, здесь мы расчитали сумму всех квадратов отклонение от среднего\n",
    "\n",
    "sum_of_squared_total"
   ]
  },
  {
   "cell_type": "code",
   "execution_count": 3,
   "id": "16cc4918",
   "metadata": {},
   "outputs": [
    {
     "data": {
      "text/plain": [
       "8"
      ]
     },
     "execution_count": 3,
     "metadata": {},
     "output_type": "execute_result"
    }
   ],
   "source": [
    "df_of_sst = len(all_groups) - 1 # Число степеней свободы в SST\n",
    "\n",
    "df_of_sst"
   ]
  },
  {
   "cell_type": "code",
   "execution_count": 4,
   "id": "d99a843e",
   "metadata": {},
   "outputs": [
    {
     "data": {
      "text/plain": [
       "6.0"
      ]
     },
     "execution_count": 4,
     "metadata": {},
     "output_type": "execute_result"
    }
   ],
   "source": [
    "ssw1 = sum([(i-np.mean(first_group))**2 for i in first_group]) # для расчета суммы квадратов\n",
    "ssw2 = sum([(i-np.mean(second_group))**2 for i in second_group]) # расчитаем сумму кв всех групп\n",
    "ssw3 = sum([(i-np.mean(third_group))**2 for i in third_group])\n",
    "sum_of_squared_within = ssw1+ssw2+ssw3 # сумма квадратов внутри групповая\n",
    "\n",
    "sum_of_squared_within"
   ]
  },
  {
   "cell_type": "code",
   "execution_count": 5,
   "id": "5a962e04",
   "metadata": {},
   "outputs": [
    {
     "data": {
      "text/plain": [
       "6"
      ]
     },
     "execution_count": 5,
     "metadata": {},
     "output_type": "execute_result"
    }
   ],
   "source": [
    "df_of_ssw = len(all_groups) - number_of_groups # Число степеней свободы во внутри групповой\n",
    "\n",
    "df_of_ssw"
   ]
  },
  {
   "cell_type": "code",
   "execution_count": 6,
   "id": "0f793955",
   "metadata": {},
   "outputs": [
    {
     "data": {
      "text/plain": [
       "24.0"
      ]
     },
     "execution_count": 6,
     "metadata": {},
     "output_type": "execute_result"
    }
   ],
   "source": [
    "# Теперь узнаем на сколько наши групповые отклоняются от общегрупповых средних\n",
    "for_minus_from_each_group = [first_group, second_group, third_group] # для минуса из каждых групп\n",
    "sum_of_squared_between = sum([number_of_groups*(np.mean(i)-mean_of_all_groups)**2 for i in for_minus_from_each_group])\n",
    "\n",
    "sum_of_squared_between"
   ]
  },
  {
   "cell_type": "code",
   "execution_count": 7,
   "id": "cd162fd2",
   "metadata": {},
   "outputs": [
    {
     "data": {
      "text/plain": [
       "2"
      ]
     },
     "execution_count": 7,
     "metadata": {},
     "output_type": "execute_result"
    }
   ],
   "source": [
    "df_of_ssb = number_of_groups - 1\n",
    "    \n",
    "df_of_ssb"
   ]
  },
  {
   "cell_type": "code",
   "execution_count": 8,
   "id": "e65d5ba5",
   "metadata": {},
   "outputs": [
    {
     "data": {
      "text/plain": [
       "12.0"
      ]
     },
     "execution_count": 8,
     "metadata": {},
     "output_type": "execute_result"
    }
   ],
   "source": [
    "F = (sum_of_squared_between / df_of_ssb) / (sum_of_squared_within / df_of_ssw)\n",
    "\n",
    "F"
   ]
  },
  {
   "cell_type": "code",
   "execution_count": 9,
   "id": "9570d051",
   "metadata": {},
   "outputs": [
    {
     "name": "stdout",
     "output_type": "stream",
     "text": [
      "Мы отклоняем нулевую гипотезу то есть P value = 0.008000000000000002, H1 верна то есть минимум 2 данные различаются между собой в Генеральной совокупонсти\n"
     ]
    }
   ],
   "source": [
    "P_value = f.sf(F, df_of_ssb, df_of_ssw)\n",
    "if P_value >= 0.05:\n",
    "    print(f\"Мы не отклоняем нулевую гипотезу так как P_value = {P_value}\")\n",
    "else:\n",
    "    print(f\"Мы отклоняем нулевую гипотезу то есть P value = {P_value}, H1 верна то есть минимум 2 данные различаются между собой в Генеральной совокупонсти\")"
   ]
  }
 ],
 "metadata": {
  "kernelspec": {
   "display_name": "Python 3 (ipykernel)",
   "language": "python",
   "name": "python3"
  },
  "language_info": {
   "codemirror_mode": {
    "name": "ipython",
    "version": 3
   },
   "file_extension": ".py",
   "mimetype": "text/x-python",
   "name": "python",
   "nbconvert_exporter": "python",
   "pygments_lexer": "ipython3",
   "version": "3.12.4"
  }
 },
 "nbformat": 4,
 "nbformat_minor": 5
}
