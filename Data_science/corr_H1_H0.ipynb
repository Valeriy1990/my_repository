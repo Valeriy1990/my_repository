{
 "cells": [
  {
   "cell_type": "code",
   "execution_count": 5,
   "id": "c05d145d-58fa-41cc-b354-35f3a6dc5950",
   "metadata": {},
   "outputs": [],
   "source": [
    "import numpy as np\n",
    "from scipy import stats\n",
    "import matplotlib.pyplot as plt\n",
    "import statsmodels.api as sm\n",
    "import statsmodels.formula.api as smf\n",
    "import pandas as pd\n",
    "\n",
    "# Гипотеза Н0 утверждает, что коэффициент корреляции генеральной совокупности равен 0\n",
    "# Альтернативная гипотеза утверждает, что коэффициент корреляции генеральной совокупности не нравен 0\n",
    "\n",
    "def cortest(corr, lenX):  \n",
    "    \n",
    "    #t value\n",
    "    t = corr[0] * ((len(X) - 2) / (1 - corr[0]**2))**0.5\n",
    "    print(\"data: x and y\")\n",
    "    print(\"t = {}, df = {}, p-value = {}\".format(round(t,5), len(X)-2, round(stats.t.sf(np.abs(t), 48)*2,5)))\n",
    "\n",
    "    # Use the Fisher transformation to get z\n",
    "    z = np.arctanh(corr[0])\n",
    "    #print(\"z value: {}\".format(z))\n",
    "\n",
    "    # And, the sigma value i.e standard error\n",
    "    sigma = (1/((len(X)-3)**0.5))\n",
    "    #print(\"sigma value: {}\".format(sigma))\n",
    "\n",
    "    # Get normal 95% interval probability density function for normal continuous random variable apply two-sided conditional formula\n",
    "    cint = z + np.array([-1, 1]) * sigma * stats.norm.ppf((1+0.95)/2)\n",
    "    \n",
    "    #Finally take hyperbolic tangent to get interval values for 95%\n",
    "    interval = np.tanh(cint)\n",
    "    \n",
    "    if corr != 0:\n",
    "        print(\"alternative hypothesis: true correlation is not equal to 0\")\n",
    "    print(\"95 percent confidence interval:\")\n",
    "    print(interval)\n",
    "    print(\"sample estimates:\")\n",
    "    print(\"cor\")\n",
    "    print(corr[0])"
   ]
  },
  {
   "cell_type": "code",
   "execution_count": 6,
   "id": "5b87939e",
   "metadata": {},
   "outputs": [
    {
     "data": {
      "text/plain": [
       "PearsonRResult(statistic=0.04201760980116756, pvalue=0.7720284837652399)"
      ]
     },
     "execution_count": 6,
     "metadata": {},
     "output_type": "execute_result"
    }
   ],
   "source": [
    "# так вычисляем корреляцию\n",
    "X = stats.norm.rvs(loc=0, scale=1, size=50)\n",
    "Y = stats.norm.rvs(loc=0, scale=1, size=50)\n",
    "corr = stats.pearsonr(X, Y)\n",
    "corr"
   ]
  },
  {
   "cell_type": "code",
   "execution_count": 7,
   "id": "eea0ab92",
   "metadata": {},
   "outputs": [
    {
     "data": {
      "image/png": "[encoded data removed]",
      "text/plain": [
       "<Figure size 640x480 with 1 Axes>"
      ]
     },
     "metadata": {},
     "output_type": "display_data"
    }
   ],
   "source": [
    "# так строим scatter plot\n",
    "plt.scatter(X,Y)\n",
    "plt.grid()\n",
    "plt.show()\n"
   ]
  },
  {
   "cell_type": "code",
   "execution_count": 8,
   "id": "27f4278a",
   "metadata": {},
   "outputs": [
    {
     "name": "stdout",
     "output_type": "stream",
     "text": [
      "data: x and y\n",
      "t = 0.29136, df = 48, p-value = 0.77203\n",
      "alternative hypothesis: true correlation is not equal to 0\n",
      "95 percent confidence interval:\n",
      "[-0.23912682  0.31666181]\n",
      "sample estimates:\n",
      "cor\n",
      "0.04201760980116756\n"
     ]
    }
   ],
   "source": [
    "cortest((corr[0],), 50)"
   ]
  },
  {
   "cell_type": "code",
   "execution_count": 9,
   "id": "0775d08e",
   "metadata": {},
   "outputs": [
    {
     "name": "stdout",
     "output_type": "stream",
     "text": [
      "b0: 24.460377324072766 b1 0.09517012417856534\n",
      "y = 24.46 + 0.10 * x\n"
     ]
    },
    {
     "data": {
      "image/png": "[encoded data removed]",
      "text/plain": [
       "<Figure size 640x480 with 1 Axes>"
      ]
     },
     "metadata": {},
     "output_type": "display_data"
    },
    {
     "name": "stdout",
     "output_type": "stream",
     "text": [
      "se:  0.1556001780358245\n",
      "p_value: 0.5457154950415584\n",
      "p_value(X < 0.61 or X > 0.61) > alpha. Do not reject H0\n",
      "statsmodels:                              OLS Regression Results                            \n",
      "==============================================================================\n",
      "Dep. Variable:                      y   R-squared:                       0.013\n",
      "Model:                            OLS   Adj. R-squared:                 -0.022\n",
      "Method:                 Least Squares   F-statistic:                    0.3741\n",
      "Date:                Sun, 05 Jan 2025   Prob (F-statistic):              0.546\n",
      "Time:                        17:53:45   Log-Likelihood:                -119.17\n",
      "No. Observations:                  30   AIC:                             242.3\n",
      "Df Residuals:                      28   BIC:                             245.1\n",
      "Df Model:                           1                                         \n",
      "Covariance Type:            nonrobust                                         \n",
      "==============================================================================\n",
      "                 coef    std err          t      P>|t|      [0.025      0.975]\n",
      "------------------------------------------------------------------------------\n",
      "const         24.4604      4.485      5.454      0.000      15.273      33.648\n",
      "x1             0.0952      0.156      0.612      0.546      -0.224       0.414\n",
      "==============================================================================\n",
      "Omnibus:                        1.830   Durbin-Watson:                   1.534\n",
      "Prob(Omnibus):                  0.401   Jarque-Bera (JB):                1.463\n",
      "Skew:                          -0.367   Prob(JB):                        0.481\n",
      "Kurtosis:                       2.205   Cond. No.                         53.3\n",
      "==============================================================================\n",
      "\n",
      "Notes:\n",
      "[1] Standard Errors assume that the covariance matrix of the errors is correctly specified.\n"
     ]
    }
   ],
   "source": [
    "X = np.random.randint(0, 50, 30)\n",
    "Y = np.random.randint(0, 50, 30)\n",
    " \n",
    "plt.scatter(X, Y)\n",
    "\n",
    "# H0: b1 = 0\n",
    "# H1: b1 != 0\n",
    "\n",
    "alpha = 0.05\n",
    "df = len(Y) - 2\n",
    " \n",
    "X_mean = np.mean(X)\n",
    "Y_mean = np.mean(Y)\n",
    "\n",
    "corr = np.sum((X - X_mean) * (Y - Y_mean)) / (np.sum((X - X_mean) ** 2) * np.sum((Y - Y_mean) ** 2)) ** 0.5\n",
    "\n",
    "X_sd = np.std(X)\n",
    "Y_sd = np.std(Y)\n",
    "\n",
    "b1 = (Y_sd / X_sd) * corr\n",
    "b0 = Y_mean - b1 * X_mean\n",
    "\n",
    "print('b0:', b0, 'b1', b1)\n",
    "print(f'y = {b0:.2f} + {b1:.2f} * x')\n",
    "\n",
    "plt.plot(X, b0 + b1 * X, color='red')\n",
    "plt.show()\n",
    "\n",
    "s2 = np.sum((Y - (b0 + b1 * X)) ** 2) / (df) # оценка дисперсии остатков\n",
    "se = (s2 / (sum((X - X_mean) ** 2))) ** 0.5\n",
    "\n",
    "print('se: ', se)\n",
    "\n",
    "t_value = b1 / se\n",
    "p_value = 2 * (1 - stats.t.cdf(abs(t_value), df))\n",
    "\n",
    "print('p_value:', p_value)\n",
    "\n",
    "if p_value > alpha:\n",
    "    print(f'p_value(X < {t_value:.2f} or X > {t_value:.2f}) > alpha. Do not reject H0')\n",
    "else:\n",
    "    print(f'p_value(X < {t_value:.2f} or X > {t_value:.2f}) < alpha. Reject H0')\n",
    "\n",
    "X2 = sm.add_constant(X)\n",
    "\n",
    "model = sm.OLS(Y, X2) \n",
    "results = model.fit()\n",
    "\n",
    "print('statsmodels: ', results.summary())"
   ]
  },
  {
   "cell_type": "code",
   "execution_count": 10,
   "id": "790d67d9",
   "metadata": {},
   "outputs": [
    {
     "data": {
      "image/png": "[encoded data removed]",
      "text/plain": [
       "<Figure size 640x480 with 1 Axes>"
      ]
     },
     "metadata": {},
     "output_type": "display_data"
    },
    {
     "data": {
      "text/plain": [
       "(array([2., 0., 2., 7., 0., 3., 5., 3., 6., 2.]),\n",
       " array([-28.12371341, -23.14772005, -18.17172669, -13.19573333,\n",
       "         -8.21973997,  -3.24374661,   1.73224675,   6.70824011,\n",
       "         11.68423347,  16.66022683,  21.63622019]),\n",
       " <BarContainer object of 10 artists>)"
      ]
     },
     "execution_count": 10,
     "metadata": {},
     "output_type": "execute_result"
    },
    {
     "data": {
      "image/png": "[encoded data removed]",
      "text/plain": [
       "<Figure size 640x480 with 1 Axes>"
      ]
     },
     "metadata": {},
     "output_type": "display_data"
    }
   ],
   "source": [
    "# Анализ остатков\n",
    "\n",
    "SSres = pd.Series([y - (b0 + b1 * x) for y, x in zip(Y, X)])\n",
    "\n",
    "Values = pd.Series([(b0 + b1 * x) for y, x in zip(Y, X)])\n",
    "\n",
    "plt.scatter(y = SSres, x = Values)\n",
    "plt.plot(Values, [0] * len(Values), color='red')\n",
    "plt.show()\n",
    "\n",
    "plt.hist(SSres)"
   ]
  }
 ],
 "metadata": {
  "kernelspec": {
   "display_name": "Python 3 (ipykernel)",
   "language": "python",
   "name": "python3"
  },
  "language_info": {
   "codemirror_mode": {
    "name": "ipython",
    "version": 3
   },
   "file_extension": ".py",
   "mimetype": "text/x-python",
   "name": "python",
   "nbconvert_exporter": "python",
   "pygments_lexer": "ipython3",
   "version": "3.12.4"
  }
 },
 "nbformat": 4,
 "nbformat_minor": 5
}
