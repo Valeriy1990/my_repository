{
 "cells": [
  {
   "cell_type": "code",
   "execution_count": 2,
   "metadata": {},
   "outputs": [
    {
     "name": "stdout",
     "output_type": "stream",
     "text": [
      "H0 отклоннена, переменные не взаимосвязанны, вероятность получить такое или ещё более значимое отклонение 48.57142857142856 %\n"
     ]
    }
   ],
   "source": [
    "from scipy import stats\n",
    "\n",
    "# Проверка гипотезы о взаимосвязи двух номинативных переменных с числом наблюдений меньше 5 ( но можно и больше).\n",
    "\n",
    "odds_ratio, pvalue = stats.fisher_exact([[1, 3], [3, 1]])  # odds_ratio - отношение шансов\n",
    "\n",
    "alpha = 0.005\n",
    "\n",
    "if pvalue > alpha:\n",
    "    print(f'H0 отклоннена, номинативные переменные не взаимосвязанны, вероятность получить такое или ещё более значимое отклонение {pvalue*100} %')\n",
    "else:\n",
    "    print(f'H1 отклоннена, номинативные переменные взаимосвязанны, вероятность получить такое или ещё более значимое отклонение {pvalue*100} %')"
   ]
  }
 ],
 "metadata": {
  "kernelspec": {
   "display_name": "base",
   "language": "python",
   "name": "python3"
  },
  "language_info": {
   "codemirror_mode": {
    "name": "ipython",
    "version": 3
   },
   "file_extension": ".py",
   "mimetype": "text/x-python",
   "name": "python",
   "nbconvert_exporter": "python",
   "pygments_lexer": "ipython3",
   "version": "3.12.4"
  }
 },
 "nbformat": 4,
 "nbformat_minor": 2
}
